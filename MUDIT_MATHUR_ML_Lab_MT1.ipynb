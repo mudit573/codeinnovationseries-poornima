{
  "nbformat": 4,
  "nbformat_minor": 0,
  "metadata": {
    "colab": {
      "name": "MUDIT_MATHUR_ML_Lab_MT1.ipynb",
      "provenance": [],
      "authorship_tag": "ABX9TyNX4g6DK4GfwPCOzExI8B19",
      "include_colab_link": true
    },
    "kernelspec": {
      "name": "python3",
      "display_name": "Python 3"
    },
    "language_info": {
      "name": "python"
    }
  },
  "cells": [
    {
      "cell_type": "markdown",
      "metadata": {
        "id": "view-in-github",
        "colab_type": "text"
      },
      "source": [
        "<a href=\"https://colab.research.google.com/github/mudit573/codeinnovationseries-poornima/blob/main/MUDIT_MATHUR_ML_Lab_MT1.ipynb\" target=\"_parent\"><img src=\"https://colab.research.google.com/assets/colab-badge.svg\" alt=\"Open In Colab\"/></a>"
      ]
    },
    {
      "cell_type": "code",
      "metadata": {
        "colab": {
          "resources": {
            "http://localhost:8080/nbextensions/google.colab/files.js": {
              "data": "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",
              "ok": true,
              "headers": [
                [
                  "content-type",
                  "application/javascript"
                ]
              ],
              "status": 200,
              "status_text": ""
            }
          },
          "base_uri": "https://localhost:8080/",
          "height": 72
        },
        "id": "0xhDDTfN5VvO",
        "outputId": "6befee5b-baf4-4b33-95ea-6a3a32b16683"
      },
      "source": [
        "\n",
        "import numpy as np\n",
        "import matplotlib.pyplot as plt\n",
        "import pandas as pd\n",
        "\n",
        "from google.colab import files\n",
        "uploaded = files.upload()"
      ],
      "execution_count": 41,
      "outputs": [
        {
          "output_type": "display_data",
          "data": {
            "text/html": [
              "\n",
              "     <input type=\"file\" id=\"files-0612fbec-fa08-4284-8a4a-68c56340211f\" name=\"files[]\" multiple disabled\n",
              "        style=\"border:none\" />\n",
              "     <output id=\"result-0612fbec-fa08-4284-8a4a-68c56340211f\">\n",
              "      Upload widget is only available when the cell has been executed in the\n",
              "      current browser session. Please rerun this cell to enable.\n",
              "      </output>\n",
              "      <script src=\"/nbextensions/google.colab/files.js\"></script> "
            ],
            "text/plain": [
              "<IPython.core.display.HTML object>"
            ]
          },
          "metadata": {
            "tags": []
          }
        },
        {
          "output_type": "stream",
          "text": [
            "Saving Classification Dataset2.csv - Classification Dataset2.csv.csv to Classification Dataset2.csv - Classification Dataset2.csv (1).csv\n"
          ],
          "name": "stdout"
        }
      ]
    },
    {
      "cell_type": "code",
      "metadata": {
        "colab": {
          "base_uri": "https://localhost:8080/"
        },
        "id": "6oCT_H2HluVU",
        "outputId": "b5dce34a-2b72-427b-d674-858810b5f763"
      },
      "source": [
        "dataset = pd.read_csv('Classification Dataset2.csv - Classification Dataset2.csv.csv')\n",
        "print(dataset)"
      ],
      "execution_count": 76,
      "outputs": [
        {
          "output_type": "stream",
          "text": [
            "     Gender  Glucose    BP  SkinThickness  ...   BMI  PedigreeFunction  Age  Outcome\n",
            "0      Male      148  72.0           35.0  ...  33.6             0.627   50        1\n",
            "1    Female       85  66.0           29.0  ...  26.6             0.351   31        0\n",
            "2    Female      183  64.0            0.0  ...  23.3             0.672   32        1\n",
            "3    Female       89  66.0           23.0  ...  28.1             0.167   21        0\n",
            "4      Male      137   NaN           35.0  ...  43.1             2.288   33        1\n",
            "..      ...      ...   ...            ...  ...   ...               ...  ...      ...\n",
            "559    Male       85  74.0            0.0  ...  30.1             0.300   35        0\n",
            "560    Male      125  76.0            0.0  ...  33.8             0.121   54        1\n",
            "561    Male      198  66.0           32.0  ...  41.3             0.502   28        1\n",
            "562    Male       87  68.0           34.0  ...  37.6             0.401   24        0\n",
            "563    Male       99  60.0           19.0  ...  26.9             0.497   32        0\n",
            "\n",
            "[564 rows x 9 columns]\n"
          ],
          "name": "stdout"
        }
      ]
    },
    {
      "cell_type": "code",
      "metadata": {
        "colab": {
          "base_uri": "https://localhost:8080/"
        },
        "id": "iZbFv0GjmK1G",
        "outputId": "675af2c2-72cc-4636-9ed7-d59211463ea9"
      },
      "source": [
        "print(dataset.info())\n"
      ],
      "execution_count": 77,
      "outputs": [
        {
          "output_type": "stream",
          "text": [
            "<class 'pandas.core.frame.DataFrame'>\n",
            "RangeIndex: 564 entries, 0 to 563\n",
            "Data columns (total 9 columns):\n",
            " #   Column            Non-Null Count  Dtype  \n",
            "---  ------            --------------  -----  \n",
            " 0   Gender            564 non-null    object \n",
            " 1   Glucose           564 non-null    int64  \n",
            " 2   BP                548 non-null    float64\n",
            " 3   SkinThickness     553 non-null    float64\n",
            " 4   Insulin           552 non-null    float64\n",
            " 5   BMI               547 non-null    float64\n",
            " 6   PedigreeFunction  546 non-null    float64\n",
            " 7   Age               564 non-null    int64  \n",
            " 8   Outcome           564 non-null    int64  \n",
            "dtypes: float64(5), int64(3), object(1)\n",
            "memory usage: 39.8+ KB\n",
            "None\n"
          ],
          "name": "stdout"
        }
      ]
    },
    {
      "cell_type": "code",
      "metadata": {
        "colab": {
          "base_uri": "https://localhost:8080/"
        },
        "id": "7zvueaCTmKyO",
        "outputId": "0d4bf87d-dbc0-4550-f4ed-1886df3631f3"
      },
      "source": [
        "types = dataset.dtypes\n",
        "print(types)\n"
      ],
      "execution_count": 78,
      "outputs": [
        {
          "output_type": "stream",
          "text": [
            "Gender               object\n",
            "Glucose               int64\n",
            "BP                  float64\n",
            "SkinThickness       float64\n",
            "Insulin             float64\n",
            "BMI                 float64\n",
            "PedigreeFunction    float64\n",
            "Age                   int64\n",
            "Outcome               int64\n",
            "dtype: object\n"
          ],
          "name": "stdout"
        }
      ]
    },
    {
      "cell_type": "code",
      "metadata": {
        "colab": {
          "base_uri": "https://localhost:8080/"
        },
        "id": "pmVrbPXOmKt3",
        "outputId": "5165fc11-63b0-4f8a-8229-11a2d3129436"
      },
      "source": [
        "dataset.isnull().sum()"
      ],
      "execution_count": 79,
      "outputs": [
        {
          "output_type": "execute_result",
          "data": {
            "text/plain": [
              "Gender               0\n",
              "Glucose              0\n",
              "BP                  16\n",
              "SkinThickness       11\n",
              "Insulin             12\n",
              "BMI                 17\n",
              "PedigreeFunction    18\n",
              "Age                  0\n",
              "Outcome              0\n",
              "dtype: int64"
            ]
          },
          "metadata": {
            "tags": []
          },
          "execution_count": 79
        }
      ]
    },
    {
      "cell_type": "code",
      "metadata": {
        "id": "8R-iMu4y1ywp"
      },
      "source": [
        "from sklearn.preprocessing import LabelEncoder\n",
        "labelencoder_x = LabelEncoder()\n",
        "x[:, 0] = labelencoder_x.fit_transform(x[:,0])"
      ],
      "execution_count": 160,
      "outputs": []
    },
    {
      "cell_type": "code",
      "metadata": {
        "colab": {
          "base_uri": "https://localhost:8080/"
        },
        "id": "_2I-QxWV1zex",
        "outputId": "e1690983-ca9a-4612-8a27-a8548055c903"
      },
      "source": [
        "print(x)"
      ],
      "execution_count": 161,
      "outputs": [
        {
          "output_type": "stream",
          "text": [
            "[[1 148 72.0]\n",
            " [0 85 66.0]\n",
            " [0 183 64.0]\n",
            " ...\n",
            " [1 198 66.0]\n",
            " [1 87 68.0]\n",
            " [1 99 60.0]]\n"
          ],
          "name": "stdout"
        }
      ]
    },
    {
      "cell_type": "code",
      "metadata": {
        "id": "rXFOQ_u9mKq0"
      },
      "source": [
        "from sklearn.impute import SimpleImputer\n",
        "x = dataset.iloc[:,0:3].values\n",
        "y = dataset.iloc[:, 3].values"
      ],
      "execution_count": 162,
      "outputs": []
    },
    {
      "cell_type": "code",
      "metadata": {
        "colab": {
          "base_uri": "https://localhost:8080/"
        },
        "id": "9u8yFA4G3trr",
        "outputId": "216f6732-babf-41e5-804e-0d9547ee266e"
      },
      "source": [
        "print(x)"
      ],
      "execution_count": 163,
      "outputs": [
        {
          "output_type": "stream",
          "text": [
            "[['Male' 148 72.0]\n",
            " ['Female' 85 66.0]\n",
            " ['Female' 183 64.0]\n",
            " ...\n",
            " ['Male' 198 66.0]\n",
            " ['Male' 87 68.0]\n",
            " ['Male' 99 60.0]]\n"
          ],
          "name": "stdout"
        }
      ]
    },
    {
      "cell_type": "code",
      "metadata": {
        "colab": {
          "base_uri": "https://localhost:8080/"
        },
        "id": "f-NoHtD8p7Eo",
        "outputId": "0a122786-fe3e-41a6-9fc6-2e50416edb1e"
      },
      "source": [
        "print(y)"
      ],
      "execution_count": 164,
      "outputs": [
        {
          "output_type": "stream",
          "text": [
            "[35. 29.  0. 23. 35.  0. 32.  0. 45.  0.  0.  0.  0. 23. 19.  0. 47.  0.\n",
            " 38. 30. 41.  0.  0. 35. 33. 26.  0. 15. 19.  0. 26. 36. 11.  0. 31. 33.\n",
            "  0. 37. 42. 47. 25.  0. 18. 24.  0. 39.  0. 27. 32.  0. 11. 15. 21. 34.\n",
            " 42. 10. 39. 60.  0. 41.  0.  0.  0. 34. nan 27. 30.  0. 13. 27. 20. 35.\n",
            "  0. 20. 30. 20.  0. 33.  0. nan 13.  0. 26. 28.  0. 29. 54. nan 32. 19.\n",
            "  0. 15. 40. nan 18. 27. 28. 18. nan 51.  0. nan  0. 18.  0. 29.  0. 28.\n",
            " 31. 25. 33. 26. 34.  0. 32.  0.  0.  0. 23. 15. 56. 39. 30.  0.  0. 42.\n",
            " 30. 36. 24.  0. 14.  0. 37. 31. 13. 20. 26. 25.  0. 29.  0. 30. 26.  0.\n",
            " 31. 23. 37. 35.  0. 17. 50.  0. 28. 42.  0. 44. 15. 21. 19. 41. 38. 40.\n",
            " 34. 23.  0. 18. 25.  0.  0. 12.  0. 23. 23. 42. 24. 42.  0. 46.  0.  0.\n",
            "  0. 18. 20.  0.  0. 28. 36. 41. 39. 35.  0. 44.  0.  0. 20. 41.  0. 13.\n",
            " 44. 27. 16.  0. 20. 16. 32. 28. 29.  0. 27. 33. 22. 54. 31. 26. 32. 40.\n",
            " 41. 30. 22.  0. 29.  0.  0. 33. 15. 27.  0. 38. 39. 31.  0. 37. 25.  0.\n",
            " 28.  0. 21. 27. 21.  0. 24. 32.  0. 22. 35. 15.  0. 33. 33. 19.  0.  0.\n",
            " 14. 32.  7. 35. 39. 22. 16. 28. 15.  0. 32. 15.  0. 18.  0. 42.  0.  0.\n",
            " 37. 32.  0. 50.  0. 52. 24. 23.  0. 10.  0. 28. 15.  0.  0. 26. 44. 39.\n",
            " 17. 43. 29. 30. 37. 45.  0. 31. 38. 29. 25.  0.  0. 33. 41.  0. nan 37.\n",
            " 23. 14. 19. 28. 30. 37. 17. 10. 31. 22. 11.  0. 39.  0. 12. 30. 20. 33.\n",
            " 32. 21. 32.  0. 36. 32. 19. 16.  0.  0. 18. 43.  0.  0. 34.  0. 13. 21.\n",
            " 35.  0.  0. 36. 19.  0. 19. 32.  0.  0. 28. 12.  0.  0. 40. 30. 40. 36.\n",
            " nan  0. 37.  0. 25. 28.  0. 17. 16. 28. 48. 23. 22. 40. 43. nan 15. 37.\n",
            "  0. 39. 30. 22.  8. 18. 24. 13. 29. 36. 26. 23. 29.  0. 14. 12.  0. 24.\n",
            " 34. 40.  0. 31.  0.  0. 41. 25.  0. 32.  0.  0.  0. 49. 39. 30. 23. 22.\n",
            " 35. 33. 21. 32.  0. 29. 41. 18. 46. 22. 32. 39.  0. 30. 46. 25.  0. 16.\n",
            " 11.  0.  8.  0. 33.  0. 15.  0. 25. 23. 27.  0. 12. 63. 12. 45. 37. 18.\n",
            " 13.  0. 32.  0. 28. 30.  0. 28. 48. 33. 22.  0. 40. 30.  0. 13. 10. 36.\n",
            "  0. 41. 40. 38. 27.  0.  0. 27. 45. 17. 38. 31. 30. 37. 22. 31.  0. 42.\n",
            " 41. 32. 17.  0. 28. 30. 38. 18.  0.  0.  0. 15. 33. 32. 19. 32. nan 25.\n",
            " 39.  0. 26. 23. 23.  0. 31. 17.  0.  0. 19. 18. 34.  0.  0.  7. 32. 33.\n",
            "  0. nan  0. 18. 19. 15. 31.  0. 18.  0. 52.  0. 30.  0.  0.  0. 37. 49.\n",
            " 40. 25. 32. 23. 29. 35. 27. 21. 43. 31. 28. 30.  0. 24. 23. 33. 40.  0.\n",
            " 40.  0.  0. 32. 34. 19.]\n"
          ],
          "name": "stdout"
        }
      ]
    },
    {
      "cell_type": "code",
      "metadata": {
        "colab": {
          "base_uri": "https://localhost:8080/"
        },
        "id": "lGwhfL94mKoL",
        "outputId": "1e7672dd-a425-448a-c534-175d84fa3aae"
      },
      "source": [
        "print(x.shape)\n",
        "print(x)"
      ],
      "execution_count": 139,
      "outputs": [
        {
          "output_type": "stream",
          "text": [
            "(564, 3)\n",
            "[['Male' 148 72.0]\n",
            " ['Female' 85 66.0]\n",
            " ['Female' 183 64.0]\n",
            " ...\n",
            " ['Male' 198 66.0]\n",
            " ['Male' 87 68.0]\n",
            " ['Male' 99 60.0]]\n"
          ],
          "name": "stdout"
        }
      ]
    },
    {
      "cell_type": "code",
      "metadata": {
        "colab": {
          "base_uri": "https://localhost:8080/"
        },
        "id": "dtx131EHmKlf",
        "outputId": "02e9c54a-eb6d-4bb5-9a79-2414a5c13c09"
      },
      "source": [
        "dataset.isnull().sum()\n"
      ],
      "execution_count": 140,
      "outputs": [
        {
          "output_type": "execute_result",
          "data": {
            "text/plain": [
              "Gender               0\n",
              "Glucose              0\n",
              "BP                  16\n",
              "SkinThickness       11\n",
              "Insulin             12\n",
              "BMI                 17\n",
              "PedigreeFunction    18\n",
              "Age                  0\n",
              "Outcome              0\n",
              "dtype: int64"
            ]
          },
          "metadata": {
            "tags": []
          },
          "execution_count": 140
        }
      ]
    },
    {
      "cell_type": "code",
      "metadata": {
        "colab": {
          "base_uri": "https://localhost:8080/"
        },
        "id": "Fe8wTVcqmKaO",
        "outputId": "8620b370-e6eb-4d67-d278-777328cd0758"
      },
      "source": [
        "print(x)"
      ],
      "execution_count": 142,
      "outputs": [
        {
          "output_type": "stream",
          "text": [
            "[['Male' 148 72.0]\n",
            " ['Female' 85 66.0]\n",
            " ['Female' 183 64.0]\n",
            " ...\n",
            " ['Male' 198 66.0]\n",
            " ['Male' 87 68.0]\n",
            " ['Male' 99 60.0]]\n"
          ],
          "name": "stdout"
        }
      ]
    },
    {
      "cell_type": "code",
      "metadata": {
        "id": "3AoomIekrBZV"
      },
      "source": [
        "from sklearn.model_selection import train_test_split\n",
        "x_train, x_test, y_train, y_test = train_test_split(x, y, test_size = 0.25, random_state = 42)"
      ],
      "execution_count": 119,
      "outputs": []
    },
    {
      "cell_type": "code",
      "metadata": {
        "colab": {
          "base_uri": "https://localhost:8080/"
        },
        "id": "Ue9Bpa9_uIQD",
        "outputId": "5f38daa7-1680-4ca9-fe08-9d49e81b0885"
      },
      "source": [
        "print(x_train)"
      ],
      "execution_count": 143,
      "outputs": [
        {
          "output_type": "stream",
          "text": [
            "[['Male' 95 60.0]\n",
            " ['Female' 83 58.0]\n",
            " ['Male' 197 70.0]\n",
            " ...\n",
            " ['Male' 101 86.0]\n",
            " ['Male' 141 0.0]\n",
            " ['Male' 125 96.0]]\n"
          ],
          "name": "stdout"
        }
      ]
    },
    {
      "cell_type": "code",
      "metadata": {
        "colab": {
          "base_uri": "https://localhost:8080/"
        },
        "id": "LUlwtwnirGdr",
        "outputId": "e614f1dd-2b18-4ac3-f6cd-9a474a401433"
      },
      "source": [
        "print(y_train)"
      ],
      "execution_count": 144,
      "outputs": [
        {
          "output_type": "stream",
          "text": [
            "[18. 31. 39. 19.  0. 29. 40.  0. 39. 32. 27.  0. 27.  0. 23. 29. 17. 17.\n",
            "  0. 35. 20. 18. 27.  0. 41. 22.  0. 25. 32. 30.  0. 22. 13. 30. 23.  0.\n",
            " 39. 37.  0. 31.  8. 18.  0.  0. 26. 32. 32. 33. 18. 16. 11.  0.  0. 38.\n",
            "  0. 30.  0. nan  0. 24. 36.  0. 35. 42.  0.  0. 60.  0. 33.  0.  0. 30.\n",
            "  0. 33. 37. 32. 28. 38. 38. 18.  0.  0. 40. 35. 21.  0.  0.  0.  0. 39.\n",
            " 29. nan 35. 43. 47. 32. 15. 16. 23. 32. 25.  0.  0. 18. 23. 33. 29.  0.\n",
            "  0. 15. 27. 23.  0.  0. 18. 11. 31. 37. 21. 27. 37. 42. 23. 43. 20. 12.\n",
            "  0. nan  0. 39. 34.  0. 28. 43. 25.  0. 22. 18. 27. 30. 40. 25. 15. 21.\n",
            "  0. 46. 30. 17. 41. 30. 40.  0.  0. 29. 32.  0. 41. 26. 12. 49. 32. 34.\n",
            " 29. 50.  0. 22. 42. 30. 14. 44. nan 37. 27. 35. 23. 19.  0. 18. 28.  0.\n",
            "  0.  0. 18.  0. 45. 32. 30.  0. 20. 33.  0. 28.  0. 39. 37. 19. 41. 42.\n",
            " 28. 33. 18.  0.  0. 26. 19. 34.  0. 28. 25.  0.  0.  0.  0. 17. 34.  0.\n",
            " 30.  0.  0. 31.  0.  8.  0. 23. 15.  0.  0. 26. 13. 46. 16. 25.  0. 56.\n",
            " 18. 15. 38. 32.  0. 36. 23. 26.  7.  0. 28. 45. 12. 31. 15.  0. 12. 27.\n",
            "  0. 29.  0. 36. 30. 41.  0. 33. 19.  0. 26. 31. 30.  0. 23. 27. 15. 24.\n",
            " 18.  0. 24.  0. 40.  0. 32. 36. 29. 14. 15. 40. 40.  7. 15. 35. 39.  0.\n",
            "  0.  0.  0. 26. 19. 23. nan 37. 40.  0.  0. 27. 11. 32. 42.  0. 16. 13.\n",
            " 15. 41.  0. 15.  0. 17.  0. 34.  0. 17.  0.  0. 20. 24. 21. 45. 32.  0.\n",
            " nan  0. 19. 15. 25. 39. 41. 31. 41. 49. 10. 21.  0.  0. 21.  0. 31. 31.\n",
            " 52.  0. 33.  0. 30. 32.  0.  0.  0. 31. 63.  0. 40. 24. 30.  0.  0. 45.\n",
            " 28. 28. 29. 34. 23. 29.  0. 36.  0. 29. 13. 28. 31. 23. 30. 28.  0. 15.\n",
            "  0. 36. 32. 23. 22. 36. 50. 25. 40.  0. 31. 39. 22. 35. 27. 31.  0.  0.\n",
            " 14.  0. 10. 33. 38. 24. 44. 13. 22. 30.  0. 19. 14. 51. 22. nan 48. 19.\n",
            " 32. 10. 39. 41. 35.  0. 37.  0.  0.]\n"
          ],
          "name": "stdout"
        }
      ]
    },
    {
      "cell_type": "code",
      "metadata": {
        "colab": {
          "base_uri": "https://localhost:8080/"
        },
        "id": "5VS8bp4ZrSAd",
        "outputId": "4605db58-63a9-449c-d14f-21468b8bcab0"
      },
      "source": [
        "print(x_test)"
      ],
      "execution_count": 145,
      "outputs": [
        {
          "output_type": "stream",
          "text": [
            "[['Male' 57 60.0]\n",
            " ['Female' 114 0.0]\n",
            " ['Male' 74 68.0]\n",
            " ['Male' 130 70.0]\n",
            " ['Male' 135 68.0]\n",
            " ['Female' 115 66.0]\n",
            " ['Female' 165 90.0]\n",
            " ['Male' 166 74.0]\n",
            " ['Female' 100 66.0]\n",
            " ['Male' 119 0.0]\n",
            " ['Female' 83 78.0]\n",
            " ['Female' 147 78.0]\n",
            " ['Female' 113 64.0]\n",
            " ['Male' 158 84.0]\n",
            " ['Male' 97 68.0]\n",
            " ['Female' 153 82.0]\n",
            " ['Male' 146 70.0]\n",
            " ['Male' 104 64.0]\n",
            " ['Male' 107 76.0]\n",
            " ['Male' 122 56.0]\n",
            " ['Female' 102 75.0]\n",
            " ['Female' 85 78.0]\n",
            " ['Male' 184 84.0]\n",
            " ['Female' 111 86.0]\n",
            " ['Male' 86 68.0]\n",
            " ['Male' 104 74.0]\n",
            " ['Female' 110 nan]\n",
            " ['Female' 95 85.0]\n",
            " ['Female' 81 60.0]\n",
            " ['Female' 106 52.0]\n",
            " ['Male' 187 76.0]\n",
            " ['Female' 100 66.0]\n",
            " ['Female' 78 50.0]\n",
            " ['Female' 80 55.0]\n",
            " ['Male' 116 70.0]\n",
            " ['Male' 132 0.0]\n",
            " ['Male' 62 78.0]\n",
            " ['Female' 101 65.0]\n",
            " ['Female' 88 74.0]\n",
            " ['Female' 124 70.0]\n",
            " ['Male' 124 70.0]\n",
            " ['Male' 173 84.0]\n",
            " ['Male' 85 65.0]\n",
            " ['Female' 61 82.0]\n",
            " ['Female' 109 75.0]\n",
            " ['Female' 73 50.0]\n",
            " ['Male' 100 74.0]\n",
            " ['Female' 147 74.0]\n",
            " ['Female' 125 70.0]\n",
            " ['Male' 129 nan]\n",
            " ['Male' 128 78.0]\n",
            " ['Male' 111 72.0]\n",
            " ['Male' 114 88.0]\n",
            " ['Male' 126 90.0]\n",
            " ['Female' 183 64.0]\n",
            " ['Male' 103 72.0]\n",
            " ['Male' 97 70.0]\n",
            " ['Female' 87 60.0]\n",
            " ['Male' 134 80.0]\n",
            " ['Male' 170 64.0]\n",
            " ['Female' 74 0.0]\n",
            " ['Female' 106 70.0]\n",
            " ['Male' 164 84.0]\n",
            " ['Male' 102 86.0]\n",
            " ['Female' 97 60.0]\n",
            " ['Male' 85 74.0]\n",
            " ['Male' 114 76.0]\n",
            " ['Male' 146 70.0]\n",
            " ['Male' 99 70.0]\n",
            " ['Female' 137 108.0]\n",
            " ['Male' 112 74.0]\n",
            " ['Female' 131 0.0]\n",
            " ['Male' 102 90.0]\n",
            " ['Male' 136 84.0]\n",
            " ['Female' 96 74.0]\n",
            " ['Female' 112 66.0]\n",
            " ['Male' 136 90.0]\n",
            " ['Male' 112 75.0]\n",
            " ['Female' 106 72.0]\n",
            " ['Female' 125 96.0]\n",
            " ['Female' 122 52.0]\n",
            " ['Female' 142 80.0]\n",
            " ['Male' 85 74.0]\n",
            " ['Male' 138 60.0]\n",
            " ['Male' 100 70.0]\n",
            " ['Male' 97 64.0]\n",
            " ['Female' 144 82.0]\n",
            " ['Male' 110 76.0]\n",
            " ['Male' 143 84.0]\n",
            " ['Male' 151 60.0]\n",
            " ['Male' 95 72.0]\n",
            " ['Male' 195 70.0]\n",
            " ['Female' 129 110.0]\n",
            " ['Female' 152 88.0]\n",
            " ['Male' 108 62.0]\n",
            " ['Male' 125 76.0]\n",
            " ['Male' 194 68.0]\n",
            " ['Male' 0 48.0]\n",
            " ['Male' 77 56.0]\n",
            " ['Male' 130 70.0]\n",
            " ['Female' 141 0.0]\n",
            " ['Female' 95 66.0]\n",
            " ['Male' 155 84.0]\n",
            " ['Female' 141 58.0]\n",
            " ['Female' 154 62.0]\n",
            " ['Female' 127 58.0]\n",
            " ['Male' 100 0.0]\n",
            " ['Female' 99 80.0]\n",
            " ['Male' 159 66.0]\n",
            " ['Female' 136 70.0]\n",
            " ['Female' 124 80.0]\n",
            " ['Female' 173 82.0]\n",
            " ['Female' 92 92.0]\n",
            " ['Male' 87 58.0]\n",
            " ['Female' 78 48.0]\n",
            " ['Female' 147 85.0]\n",
            " ['Male' 148 72.0]\n",
            " ['Male' 117 62.0]\n",
            " ['Female' 168 74.0]\n",
            " ['Male' 107 62.0]\n",
            " ['Female' 196 90.0]\n",
            " ['Male' 75 82.0]\n",
            " ['Female' 114 68.0]\n",
            " ['Male' 152 78.0]\n",
            " ['Female' 80 66.0]\n",
            " ['Female' 107 68.0]\n",
            " ['Male' 93 60.0]\n",
            " ['Male' 120 0.0]\n",
            " ['Male' 120 68.0]\n",
            " ['Male' 103 30.0]\n",
            " ['Male' 82 64.0]\n",
            " ['Male' 101 62.0]\n",
            " ['Male' 94 64.0]\n",
            " ['Male' 90 85.0]\n",
            " ['Male' 105 nan]\n",
            " ['Male' 107 88.0]\n",
            " ['Female' 90 62.0]\n",
            " ['Female' 150 66.0]\n",
            " ['Female' 141 74.0]\n",
            " ['Male' 146 nan]\n",
            " ['Female' 134 72.0]]\n"
          ],
          "name": "stdout"
        }
      ]
    },
    {
      "cell_type": "code",
      "metadata": {
        "colab": {
          "base_uri": "https://localhost:8080/"
        },
        "id": "0VJBCcXqrWeQ",
        "outputId": "7ac50eee-c0de-4741-f9b2-3a35fd5cec87"
      },
      "source": [
        "print(y_test)"
      ],
      "execution_count": 146,
      "outputs": [
        {
          "output_type": "stream",
          "text": [
            "[ 0.  0. 28. nan 42. 39. 33.  0. 29.  0. 26.  0. 35. 41. 21. 42.  0. 37.\n",
            "  0.  0. 23.  0. 33. 19. 28. 18.  0. 25. 22.  0. 27. 20. 32.  0. 28.  0.\n",
            "  0. 28. 19. 33. 20. 33.  0. 28. 26. 10. 40. 25. 24. 20.  0. 47.  0.  0.\n",
            "  0. 32. 40. 37. 37. 37.  0. 37. 21. 36. 23.  0. 17. 38. 16.  0. 30.  0.\n",
            " 39. 41. 18. nan  0. 32. 54.  0. 43. 15. 22. 35. 52. 19. 26.  0. 23. nan\n",
            " 33. 33. 46. 44. 32.  0. 28. 20. 30. 13.  0. 13. 44. 34. 31. 24.  0. 11.\n",
            "  0. 32. 33. 48.  0. 16.  0. 54. 35. 12.  0. 30.  0.  0. 22. 34. 30. 19.\n",
            " 25.  0.  0. 38. 13.  0. 25. 32. 32.  0. 12. 42.  0.  0. nan]\n"
          ],
          "name": "stdout"
        }
      ]
    },
    {
      "cell_type": "code",
      "metadata": {
        "colab": {
          "base_uri": "https://localhost:8080/",
          "height": 357
        },
        "id": "ycevGK-oujKb",
        "outputId": "2bc46392-bf0e-4c79-c73d-dae4ce38555b"
      },
      "source": [
        "from sklearn.preprocessing import StandardScaler\n",
        "sc_x = StandardScaler()\n",
        "x_train = sc_x.fit_transform(x_train)\n",
        "x_test = sc_x.transform(x_test)"
      ],
      "execution_count": 147,
      "outputs": [
        {
          "output_type": "error",
          "ename": "ValueError",
          "evalue": "ignored",
          "traceback": [
            "\u001b[0;31m---------------------------------------------------------------------------\u001b[0m",
            "\u001b[0;31mValueError\u001b[0m                                Traceback (most recent call last)",
            "\u001b[0;32m<ipython-input-147-69ca53a41f26>\u001b[0m in \u001b[0;36m<module>\u001b[0;34m()\u001b[0m\n\u001b[1;32m      1\u001b[0m \u001b[0;32mfrom\u001b[0m \u001b[0msklearn\u001b[0m\u001b[0;34m.\u001b[0m\u001b[0mpreprocessing\u001b[0m \u001b[0;32mimport\u001b[0m \u001b[0mStandardScaler\u001b[0m\u001b[0;34m\u001b[0m\u001b[0;34m\u001b[0m\u001b[0m\n\u001b[1;32m      2\u001b[0m \u001b[0msc_x\u001b[0m \u001b[0;34m=\u001b[0m \u001b[0mStandardScaler\u001b[0m\u001b[0;34m(\u001b[0m\u001b[0;34m)\u001b[0m\u001b[0;34m\u001b[0m\u001b[0;34m\u001b[0m\u001b[0m\n\u001b[0;32m----> 3\u001b[0;31m \u001b[0mx_train\u001b[0m \u001b[0;34m=\u001b[0m \u001b[0msc_x\u001b[0m\u001b[0;34m.\u001b[0m\u001b[0mfit_transform\u001b[0m\u001b[0;34m(\u001b[0m\u001b[0mx_train\u001b[0m\u001b[0;34m)\u001b[0m\u001b[0;34m\u001b[0m\u001b[0;34m\u001b[0m\u001b[0m\n\u001b[0m\u001b[1;32m      4\u001b[0m \u001b[0mx_test\u001b[0m \u001b[0;34m=\u001b[0m \u001b[0msc_x\u001b[0m\u001b[0;34m.\u001b[0m\u001b[0mtransform\u001b[0m\u001b[0;34m(\u001b[0m\u001b[0mx_test\u001b[0m\u001b[0;34m)\u001b[0m\u001b[0;34m\u001b[0m\u001b[0;34m\u001b[0m\u001b[0m\n",
            "\u001b[0;32m/usr/local/lib/python3.7/dist-packages/sklearn/base.py\u001b[0m in \u001b[0;36mfit_transform\u001b[0;34m(self, X, y, **fit_params)\u001b[0m\n\u001b[1;32m    569\u001b[0m         \u001b[0;32mif\u001b[0m \u001b[0my\u001b[0m \u001b[0;32mis\u001b[0m \u001b[0;32mNone\u001b[0m\u001b[0;34m:\u001b[0m\u001b[0;34m\u001b[0m\u001b[0;34m\u001b[0m\u001b[0m\n\u001b[1;32m    570\u001b[0m             \u001b[0;31m# fit method of arity 1 (unsupervised transformation)\u001b[0m\u001b[0;34m\u001b[0m\u001b[0;34m\u001b[0m\u001b[0;34m\u001b[0m\u001b[0m\n\u001b[0;32m--> 571\u001b[0;31m             \u001b[0;32mreturn\u001b[0m \u001b[0mself\u001b[0m\u001b[0;34m.\u001b[0m\u001b[0mfit\u001b[0m\u001b[0;34m(\u001b[0m\u001b[0mX\u001b[0m\u001b[0;34m,\u001b[0m \u001b[0;34m**\u001b[0m\u001b[0mfit_params\u001b[0m\u001b[0;34m)\u001b[0m\u001b[0;34m.\u001b[0m\u001b[0mtransform\u001b[0m\u001b[0;34m(\u001b[0m\u001b[0mX\u001b[0m\u001b[0;34m)\u001b[0m\u001b[0;34m\u001b[0m\u001b[0;34m\u001b[0m\u001b[0m\n\u001b[0m\u001b[1;32m    572\u001b[0m         \u001b[0;32melse\u001b[0m\u001b[0;34m:\u001b[0m\u001b[0;34m\u001b[0m\u001b[0;34m\u001b[0m\u001b[0m\n\u001b[1;32m    573\u001b[0m             \u001b[0;31m# fit method of arity 2 (supervised transformation)\u001b[0m\u001b[0;34m\u001b[0m\u001b[0;34m\u001b[0m\u001b[0;34m\u001b[0m\u001b[0m\n",
            "\u001b[0;32m/usr/local/lib/python3.7/dist-packages/sklearn/preprocessing/_data.py\u001b[0m in \u001b[0;36mfit\u001b[0;34m(self, X, y)\u001b[0m\n\u001b[1;32m    667\u001b[0m         \u001b[0;31m# Reset internal state before fitting\u001b[0m\u001b[0;34m\u001b[0m\u001b[0;34m\u001b[0m\u001b[0;34m\u001b[0m\u001b[0m\n\u001b[1;32m    668\u001b[0m         \u001b[0mself\u001b[0m\u001b[0;34m.\u001b[0m\u001b[0m_reset\u001b[0m\u001b[0;34m(\u001b[0m\u001b[0;34m)\u001b[0m\u001b[0;34m\u001b[0m\u001b[0;34m\u001b[0m\u001b[0m\n\u001b[0;32m--> 669\u001b[0;31m         \u001b[0;32mreturn\u001b[0m \u001b[0mself\u001b[0m\u001b[0;34m.\u001b[0m\u001b[0mpartial_fit\u001b[0m\u001b[0;34m(\u001b[0m\u001b[0mX\u001b[0m\u001b[0;34m,\u001b[0m \u001b[0my\u001b[0m\u001b[0;34m)\u001b[0m\u001b[0;34m\u001b[0m\u001b[0;34m\u001b[0m\u001b[0m\n\u001b[0m\u001b[1;32m    670\u001b[0m \u001b[0;34m\u001b[0m\u001b[0m\n\u001b[1;32m    671\u001b[0m     \u001b[0;32mdef\u001b[0m \u001b[0mpartial_fit\u001b[0m\u001b[0;34m(\u001b[0m\u001b[0mself\u001b[0m\u001b[0;34m,\u001b[0m \u001b[0mX\u001b[0m\u001b[0;34m,\u001b[0m \u001b[0my\u001b[0m\u001b[0;34m=\u001b[0m\u001b[0;32mNone\u001b[0m\u001b[0;34m)\u001b[0m\u001b[0;34m:\u001b[0m\u001b[0;34m\u001b[0m\u001b[0;34m\u001b[0m\u001b[0m\n",
            "\u001b[0;32m/usr/local/lib/python3.7/dist-packages/sklearn/preprocessing/_data.py\u001b[0m in \u001b[0;36mpartial_fit\u001b[0;34m(self, X, y)\u001b[0m\n\u001b[1;32m    698\u001b[0m         X = check_array(X, accept_sparse=('csr', 'csc'),\n\u001b[1;32m    699\u001b[0m                         \u001b[0mestimator\u001b[0m\u001b[0;34m=\u001b[0m\u001b[0mself\u001b[0m\u001b[0;34m,\u001b[0m \u001b[0mdtype\u001b[0m\u001b[0;34m=\u001b[0m\u001b[0mFLOAT_DTYPES\u001b[0m\u001b[0;34m,\u001b[0m\u001b[0;34m\u001b[0m\u001b[0;34m\u001b[0m\u001b[0m\n\u001b[0;32m--> 700\u001b[0;31m                         force_all_finite='allow-nan')\n\u001b[0m\u001b[1;32m    701\u001b[0m \u001b[0;34m\u001b[0m\u001b[0m\n\u001b[1;32m    702\u001b[0m         \u001b[0;31m# Even in the case of `with_mean=False`, we update the mean anyway\u001b[0m\u001b[0;34m\u001b[0m\u001b[0;34m\u001b[0m\u001b[0;34m\u001b[0m\u001b[0m\n",
            "\u001b[0;32m/usr/local/lib/python3.7/dist-packages/sklearn/utils/validation.py\u001b[0m in \u001b[0;36mcheck_array\u001b[0;34m(array, accept_sparse, accept_large_sparse, dtype, order, copy, force_all_finite, ensure_2d, allow_nd, ensure_min_samples, ensure_min_features, warn_on_dtype, estimator)\u001b[0m\n\u001b[1;32m    529\u001b[0m                     \u001b[0marray\u001b[0m \u001b[0;34m=\u001b[0m \u001b[0marray\u001b[0m\u001b[0;34m.\u001b[0m\u001b[0mastype\u001b[0m\u001b[0;34m(\u001b[0m\u001b[0mdtype\u001b[0m\u001b[0;34m,\u001b[0m \u001b[0mcasting\u001b[0m\u001b[0;34m=\u001b[0m\u001b[0;34m\"unsafe\"\u001b[0m\u001b[0;34m,\u001b[0m \u001b[0mcopy\u001b[0m\u001b[0;34m=\u001b[0m\u001b[0;32mFalse\u001b[0m\u001b[0;34m)\u001b[0m\u001b[0;34m\u001b[0m\u001b[0;34m\u001b[0m\u001b[0m\n\u001b[1;32m    530\u001b[0m                 \u001b[0;32melse\u001b[0m\u001b[0;34m:\u001b[0m\u001b[0;34m\u001b[0m\u001b[0;34m\u001b[0m\u001b[0m\n\u001b[0;32m--> 531\u001b[0;31m                     \u001b[0marray\u001b[0m \u001b[0;34m=\u001b[0m \u001b[0mnp\u001b[0m\u001b[0;34m.\u001b[0m\u001b[0masarray\u001b[0m\u001b[0;34m(\u001b[0m\u001b[0marray\u001b[0m\u001b[0;34m,\u001b[0m \u001b[0morder\u001b[0m\u001b[0;34m=\u001b[0m\u001b[0morder\u001b[0m\u001b[0;34m,\u001b[0m \u001b[0mdtype\u001b[0m\u001b[0;34m=\u001b[0m\u001b[0mdtype\u001b[0m\u001b[0;34m)\u001b[0m\u001b[0;34m\u001b[0m\u001b[0;34m\u001b[0m\u001b[0m\n\u001b[0m\u001b[1;32m    532\u001b[0m             \u001b[0;32mexcept\u001b[0m \u001b[0mComplexWarning\u001b[0m\u001b[0;34m:\u001b[0m\u001b[0;34m\u001b[0m\u001b[0;34m\u001b[0m\u001b[0m\n\u001b[1;32m    533\u001b[0m                 raise ValueError(\"Complex data not supported\\n\"\n",
            "\u001b[0;32m/usr/local/lib/python3.7/dist-packages/numpy/core/_asarray.py\u001b[0m in \u001b[0;36masarray\u001b[0;34m(a, dtype, order)\u001b[0m\n\u001b[1;32m     81\u001b[0m \u001b[0;34m\u001b[0m\u001b[0m\n\u001b[1;32m     82\u001b[0m     \"\"\"\n\u001b[0;32m---> 83\u001b[0;31m     \u001b[0;32mreturn\u001b[0m \u001b[0marray\u001b[0m\u001b[0;34m(\u001b[0m\u001b[0ma\u001b[0m\u001b[0;34m,\u001b[0m \u001b[0mdtype\u001b[0m\u001b[0;34m,\u001b[0m \u001b[0mcopy\u001b[0m\u001b[0;34m=\u001b[0m\u001b[0;32mFalse\u001b[0m\u001b[0;34m,\u001b[0m \u001b[0morder\u001b[0m\u001b[0;34m=\u001b[0m\u001b[0morder\u001b[0m\u001b[0;34m)\u001b[0m\u001b[0;34m\u001b[0m\u001b[0;34m\u001b[0m\u001b[0m\n\u001b[0m\u001b[1;32m     84\u001b[0m \u001b[0;34m\u001b[0m\u001b[0m\n\u001b[1;32m     85\u001b[0m \u001b[0;34m\u001b[0m\u001b[0m\n",
            "\u001b[0;31mValueError\u001b[0m: could not convert string to float: 'Male'"
          ]
        }
      ]
    },
    {
      "cell_type": "code",
      "metadata": {
        "colab": {
          "base_uri": "https://localhost:8080/",
          "height": 340
        },
        "id": "eJIelpg3z3mT",
        "outputId": "fa9d7fa0-7014-4226-da2f-2fbb9196e529"
      },
      "source": [
        "from sklearn.tree import DecisionTreeClassifier\n",
        "classifier = DecisionTreeClassifier(criterion = 'entropy', random_state =35)\n",
        "classifier.fit(x_train, y_train)"
      ],
      "execution_count": 148,
      "outputs": [
        {
          "output_type": "error",
          "ename": "ValueError",
          "evalue": "ignored",
          "traceback": [
            "\u001b[0;31m---------------------------------------------------------------------------\u001b[0m",
            "\u001b[0;31mValueError\u001b[0m                                Traceback (most recent call last)",
            "\u001b[0;32m<ipython-input-148-79235ff22b33>\u001b[0m in \u001b[0;36m<module>\u001b[0;34m()\u001b[0m\n\u001b[1;32m      1\u001b[0m \u001b[0;32mfrom\u001b[0m \u001b[0msklearn\u001b[0m\u001b[0;34m.\u001b[0m\u001b[0mtree\u001b[0m \u001b[0;32mimport\u001b[0m \u001b[0mDecisionTreeClassifier\u001b[0m\u001b[0;34m\u001b[0m\u001b[0;34m\u001b[0m\u001b[0m\n\u001b[1;32m      2\u001b[0m \u001b[0mclassifier\u001b[0m \u001b[0;34m=\u001b[0m \u001b[0mDecisionTreeClassifier\u001b[0m\u001b[0;34m(\u001b[0m\u001b[0mcriterion\u001b[0m \u001b[0;34m=\u001b[0m \u001b[0;34m'entropy'\u001b[0m\u001b[0;34m,\u001b[0m \u001b[0mrandom_state\u001b[0m \u001b[0;34m=\u001b[0m\u001b[0;36m35\u001b[0m\u001b[0;34m)\u001b[0m\u001b[0;34m\u001b[0m\u001b[0;34m\u001b[0m\u001b[0m\n\u001b[0;32m----> 3\u001b[0;31m \u001b[0mclassifier\u001b[0m\u001b[0;34m.\u001b[0m\u001b[0mfit\u001b[0m\u001b[0;34m(\u001b[0m\u001b[0mx_train\u001b[0m\u001b[0;34m,\u001b[0m \u001b[0my_train\u001b[0m\u001b[0;34m)\u001b[0m\u001b[0;34m\u001b[0m\u001b[0;34m\u001b[0m\u001b[0m\n\u001b[0m",
            "\u001b[0;32m/usr/local/lib/python3.7/dist-packages/sklearn/tree/_classes.py\u001b[0m in \u001b[0;36mfit\u001b[0;34m(self, X, y, sample_weight, check_input, X_idx_sorted)\u001b[0m\n\u001b[1;32m    875\u001b[0m             \u001b[0msample_weight\u001b[0m\u001b[0;34m=\u001b[0m\u001b[0msample_weight\u001b[0m\u001b[0;34m,\u001b[0m\u001b[0;34m\u001b[0m\u001b[0;34m\u001b[0m\u001b[0m\n\u001b[1;32m    876\u001b[0m             \u001b[0mcheck_input\u001b[0m\u001b[0;34m=\u001b[0m\u001b[0mcheck_input\u001b[0m\u001b[0;34m,\u001b[0m\u001b[0;34m\u001b[0m\u001b[0;34m\u001b[0m\u001b[0m\n\u001b[0;32m--> 877\u001b[0;31m             X_idx_sorted=X_idx_sorted)\n\u001b[0m\u001b[1;32m    878\u001b[0m         \u001b[0;32mreturn\u001b[0m \u001b[0mself\u001b[0m\u001b[0;34m\u001b[0m\u001b[0;34m\u001b[0m\u001b[0m\n\u001b[1;32m    879\u001b[0m \u001b[0;34m\u001b[0m\u001b[0m\n",
            "\u001b[0;32m/usr/local/lib/python3.7/dist-packages/sklearn/tree/_classes.py\u001b[0m in \u001b[0;36mfit\u001b[0;34m(self, X, y, sample_weight, check_input, X_idx_sorted)\u001b[0m\n\u001b[1;32m    147\u001b[0m \u001b[0;34m\u001b[0m\u001b[0m\n\u001b[1;32m    148\u001b[0m         \u001b[0;32mif\u001b[0m \u001b[0mcheck_input\u001b[0m\u001b[0;34m:\u001b[0m\u001b[0;34m\u001b[0m\u001b[0;34m\u001b[0m\u001b[0m\n\u001b[0;32m--> 149\u001b[0;31m             \u001b[0mX\u001b[0m \u001b[0;34m=\u001b[0m \u001b[0mcheck_array\u001b[0m\u001b[0;34m(\u001b[0m\u001b[0mX\u001b[0m\u001b[0;34m,\u001b[0m \u001b[0mdtype\u001b[0m\u001b[0;34m=\u001b[0m\u001b[0mDTYPE\u001b[0m\u001b[0;34m,\u001b[0m \u001b[0maccept_sparse\u001b[0m\u001b[0;34m=\u001b[0m\u001b[0;34m\"csc\"\u001b[0m\u001b[0;34m)\u001b[0m\u001b[0;34m\u001b[0m\u001b[0;34m\u001b[0m\u001b[0m\n\u001b[0m\u001b[1;32m    150\u001b[0m             \u001b[0my\u001b[0m \u001b[0;34m=\u001b[0m \u001b[0mcheck_array\u001b[0m\u001b[0;34m(\u001b[0m\u001b[0my\u001b[0m\u001b[0;34m,\u001b[0m \u001b[0mensure_2d\u001b[0m\u001b[0;34m=\u001b[0m\u001b[0;32mFalse\u001b[0m\u001b[0;34m,\u001b[0m \u001b[0mdtype\u001b[0m\u001b[0;34m=\u001b[0m\u001b[0;32mNone\u001b[0m\u001b[0;34m)\u001b[0m\u001b[0;34m\u001b[0m\u001b[0;34m\u001b[0m\u001b[0m\n\u001b[1;32m    151\u001b[0m             \u001b[0;32mif\u001b[0m \u001b[0missparse\u001b[0m\u001b[0;34m(\u001b[0m\u001b[0mX\u001b[0m\u001b[0;34m)\u001b[0m\u001b[0;34m:\u001b[0m\u001b[0;34m\u001b[0m\u001b[0;34m\u001b[0m\u001b[0m\n",
            "\u001b[0;32m/usr/local/lib/python3.7/dist-packages/sklearn/utils/validation.py\u001b[0m in \u001b[0;36mcheck_array\u001b[0;34m(array, accept_sparse, accept_large_sparse, dtype, order, copy, force_all_finite, ensure_2d, allow_nd, ensure_min_samples, ensure_min_features, warn_on_dtype, estimator)\u001b[0m\n\u001b[1;32m    529\u001b[0m                     \u001b[0marray\u001b[0m \u001b[0;34m=\u001b[0m \u001b[0marray\u001b[0m\u001b[0;34m.\u001b[0m\u001b[0mastype\u001b[0m\u001b[0;34m(\u001b[0m\u001b[0mdtype\u001b[0m\u001b[0;34m,\u001b[0m \u001b[0mcasting\u001b[0m\u001b[0;34m=\u001b[0m\u001b[0;34m\"unsafe\"\u001b[0m\u001b[0;34m,\u001b[0m \u001b[0mcopy\u001b[0m\u001b[0;34m=\u001b[0m\u001b[0;32mFalse\u001b[0m\u001b[0;34m)\u001b[0m\u001b[0;34m\u001b[0m\u001b[0;34m\u001b[0m\u001b[0m\n\u001b[1;32m    530\u001b[0m                 \u001b[0;32melse\u001b[0m\u001b[0;34m:\u001b[0m\u001b[0;34m\u001b[0m\u001b[0;34m\u001b[0m\u001b[0m\n\u001b[0;32m--> 531\u001b[0;31m                     \u001b[0marray\u001b[0m \u001b[0;34m=\u001b[0m \u001b[0mnp\u001b[0m\u001b[0;34m.\u001b[0m\u001b[0masarray\u001b[0m\u001b[0;34m(\u001b[0m\u001b[0marray\u001b[0m\u001b[0;34m,\u001b[0m \u001b[0morder\u001b[0m\u001b[0;34m=\u001b[0m\u001b[0morder\u001b[0m\u001b[0;34m,\u001b[0m \u001b[0mdtype\u001b[0m\u001b[0;34m=\u001b[0m\u001b[0mdtype\u001b[0m\u001b[0;34m)\u001b[0m\u001b[0;34m\u001b[0m\u001b[0;34m\u001b[0m\u001b[0m\n\u001b[0m\u001b[1;32m    532\u001b[0m             \u001b[0;32mexcept\u001b[0m \u001b[0mComplexWarning\u001b[0m\u001b[0;34m:\u001b[0m\u001b[0;34m\u001b[0m\u001b[0;34m\u001b[0m\u001b[0m\n\u001b[1;32m    533\u001b[0m                 raise ValueError(\"Complex data not supported\\n\"\n",
            "\u001b[0;32m/usr/local/lib/python3.7/dist-packages/numpy/core/_asarray.py\u001b[0m in \u001b[0;36masarray\u001b[0;34m(a, dtype, order)\u001b[0m\n\u001b[1;32m     81\u001b[0m \u001b[0;34m\u001b[0m\u001b[0m\n\u001b[1;32m     82\u001b[0m     \"\"\"\n\u001b[0;32m---> 83\u001b[0;31m     \u001b[0;32mreturn\u001b[0m \u001b[0marray\u001b[0m\u001b[0;34m(\u001b[0m\u001b[0ma\u001b[0m\u001b[0;34m,\u001b[0m \u001b[0mdtype\u001b[0m\u001b[0;34m,\u001b[0m \u001b[0mcopy\u001b[0m\u001b[0;34m=\u001b[0m\u001b[0;32mFalse\u001b[0m\u001b[0;34m,\u001b[0m \u001b[0morder\u001b[0m\u001b[0;34m=\u001b[0m\u001b[0morder\u001b[0m\u001b[0;34m)\u001b[0m\u001b[0;34m\u001b[0m\u001b[0;34m\u001b[0m\u001b[0m\n\u001b[0m\u001b[1;32m     84\u001b[0m \u001b[0;34m\u001b[0m\u001b[0m\n\u001b[1;32m     85\u001b[0m \u001b[0;34m\u001b[0m\u001b[0m\n",
            "\u001b[0;31mValueError\u001b[0m: could not convert string to float: 'Male'"
          ]
        }
      ]
    },
    {
      "cell_type": "code",
      "metadata": {
        "colab": {
          "base_uri": "https://localhost:8080/",
          "height": 323
        },
        "id": "25tmL3wzz-T7",
        "outputId": "0840955e-e305-4992-cb65-88cc29028cca"
      },
      "source": [
        "y_pred = classifier.predict(x_test)\n",
        "print(y_pred)"
      ],
      "execution_count": 149,
      "outputs": [
        {
          "output_type": "error",
          "ename": "NotFittedError",
          "evalue": "ignored",
          "traceback": [
            "\u001b[0;31m---------------------------------------------------------------------------\u001b[0m",
            "\u001b[0;31mNotFittedError\u001b[0m                            Traceback (most recent call last)",
            "\u001b[0;32m<ipython-input-149-03e13f5cbfb9>\u001b[0m in \u001b[0;36m<module>\u001b[0;34m()\u001b[0m\n\u001b[0;32m----> 1\u001b[0;31m \u001b[0my_pred\u001b[0m \u001b[0;34m=\u001b[0m \u001b[0mclassifier\u001b[0m\u001b[0;34m.\u001b[0m\u001b[0mpredict\u001b[0m\u001b[0;34m(\u001b[0m\u001b[0mx_test\u001b[0m\u001b[0;34m)\u001b[0m\u001b[0;34m\u001b[0m\u001b[0;34m\u001b[0m\u001b[0m\n\u001b[0m\u001b[1;32m      2\u001b[0m \u001b[0mprint\u001b[0m\u001b[0;34m(\u001b[0m\u001b[0my_pred\u001b[0m\u001b[0;34m)\u001b[0m\u001b[0;34m\u001b[0m\u001b[0;34m\u001b[0m\u001b[0m\n",
            "\u001b[0;32m/usr/local/lib/python3.7/dist-packages/sklearn/tree/_classes.py\u001b[0m in \u001b[0;36mpredict\u001b[0;34m(self, X, check_input)\u001b[0m\n\u001b[1;32m    416\u001b[0m             \u001b[0mThe\u001b[0m \u001b[0mpredicted\u001b[0m \u001b[0mclasses\u001b[0m\u001b[0;34m,\u001b[0m \u001b[0;32mor\u001b[0m \u001b[0mthe\u001b[0m \u001b[0mpredict\u001b[0m \u001b[0mvalues\u001b[0m\u001b[0;34m.\u001b[0m\u001b[0;34m\u001b[0m\u001b[0;34m\u001b[0m\u001b[0m\n\u001b[1;32m    417\u001b[0m         \"\"\"\n\u001b[0;32m--> 418\u001b[0;31m         \u001b[0mcheck_is_fitted\u001b[0m\u001b[0;34m(\u001b[0m\u001b[0mself\u001b[0m\u001b[0;34m)\u001b[0m\u001b[0;34m\u001b[0m\u001b[0;34m\u001b[0m\u001b[0m\n\u001b[0m\u001b[1;32m    419\u001b[0m         \u001b[0mX\u001b[0m \u001b[0;34m=\u001b[0m \u001b[0mself\u001b[0m\u001b[0;34m.\u001b[0m\u001b[0m_validate_X_predict\u001b[0m\u001b[0;34m(\u001b[0m\u001b[0mX\u001b[0m\u001b[0;34m,\u001b[0m \u001b[0mcheck_input\u001b[0m\u001b[0;34m)\u001b[0m\u001b[0;34m\u001b[0m\u001b[0;34m\u001b[0m\u001b[0m\n\u001b[1;32m    420\u001b[0m         \u001b[0mproba\u001b[0m \u001b[0;34m=\u001b[0m \u001b[0mself\u001b[0m\u001b[0;34m.\u001b[0m\u001b[0mtree_\u001b[0m\u001b[0;34m.\u001b[0m\u001b[0mpredict\u001b[0m\u001b[0;34m(\u001b[0m\u001b[0mX\u001b[0m\u001b[0;34m)\u001b[0m\u001b[0;34m\u001b[0m\u001b[0;34m\u001b[0m\u001b[0m\n",
            "\u001b[0;32m/usr/local/lib/python3.7/dist-packages/sklearn/utils/validation.py\u001b[0m in \u001b[0;36mcheck_is_fitted\u001b[0;34m(estimator, attributes, msg, all_or_any)\u001b[0m\n\u001b[1;32m    965\u001b[0m \u001b[0;34m\u001b[0m\u001b[0m\n\u001b[1;32m    966\u001b[0m     \u001b[0;32mif\u001b[0m \u001b[0;32mnot\u001b[0m \u001b[0mattrs\u001b[0m\u001b[0;34m:\u001b[0m\u001b[0;34m\u001b[0m\u001b[0;34m\u001b[0m\u001b[0m\n\u001b[0;32m--> 967\u001b[0;31m         \u001b[0;32mraise\u001b[0m \u001b[0mNotFittedError\u001b[0m\u001b[0;34m(\u001b[0m\u001b[0mmsg\u001b[0m \u001b[0;34m%\u001b[0m \u001b[0;34m{\u001b[0m\u001b[0;34m'name'\u001b[0m\u001b[0;34m:\u001b[0m \u001b[0mtype\u001b[0m\u001b[0;34m(\u001b[0m\u001b[0mestimator\u001b[0m\u001b[0;34m)\u001b[0m\u001b[0;34m.\u001b[0m\u001b[0m__name__\u001b[0m\u001b[0;34m}\u001b[0m\u001b[0;34m)\u001b[0m\u001b[0;34m\u001b[0m\u001b[0;34m\u001b[0m\u001b[0m\n\u001b[0m\u001b[1;32m    968\u001b[0m \u001b[0;34m\u001b[0m\u001b[0m\n\u001b[1;32m    969\u001b[0m \u001b[0;34m\u001b[0m\u001b[0m\n",
            "\u001b[0;31mNotFittedError\u001b[0m: This DecisionTreeClassifier instance is not fitted yet. Call 'fit' with appropriate arguments before using this estimator."
          ]
        }
      ]
    }
  ]
}